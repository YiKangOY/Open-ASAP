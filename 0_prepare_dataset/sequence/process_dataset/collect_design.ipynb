{
 "cells": [
  {
   "cell_type": "code",
   "execution_count": null,
   "metadata": {},
   "outputs": [],
   "source": [
    "import pandas as pd\n",
    "import numpy as np\n",
    "path = '../abc_synthesized'\n",
    "part = 10\n",
    "flows = [20,]\n",
    "with open('../../designlist.txt', 'r') as f:\n",
    "    designs = f.readlines()\n",
    "for i in range(len(designs)):\n",
    "    designs[i] = designs[i].strip()\n",
    "targets = ['delay', 'area']\n",
    "dest_path = '../abc_synthesized'"
   ]
  },
  {
   "cell_type": "code",
   "execution_count": null,
   "metadata": {},
   "outputs": [],
   "source": [
    "for target in targets:\n",
    "    for design in designs:\n",
    "        for flow in flows:\n",
    "            all = pd.DataFrame()\n",
    "            all_list = []\n",
    "            for idx in range(part):\n",
    "                curr = pd.read_csv(path+'{}_ground_truth_{}_flow_{}_idx_{}.csv'.format(target, design, flow, idx), header=None)\n",
    "                curr = np.array(curr.values)\n",
    "                # print(len(curr))\n",
    "                all_list.append(curr)\n",
    "                \n",
    "            all = np.concatenate(all_list)\n",
    "            all_df = pd.DataFrame(all)\n",
    "            all_df.to_csv(dest_path+'{}_ground_truth_{}_flow_{}.csv'.format(target, design, flow), index=None, header=None)\n",
    "            "
   ]
  }
 ],
 "metadata": {
  "kernelspec": {
   "display_name": "base",
   "language": "python",
   "name": "python3"
  },
  "language_info": {
   "codemirror_mode": {
    "name": "ipython",
    "version": 3
   },
   "file_extension": ".py",
   "mimetype": "text/x-python",
   "name": "python",
   "nbconvert_exporter": "python",
   "pygments_lexer": "ipython3",
   "version": "3.9.12"
  },
  "orig_nbformat": 4
 },
 "nbformat": 4,
 "nbformat_minor": 2
}
